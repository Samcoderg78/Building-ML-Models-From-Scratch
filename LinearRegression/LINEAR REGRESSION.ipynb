{
 "cells": [
  {
   "cell_type": "markdown",
   "id": "ebac57ad-72d6-40c0-a106-e6fddea0f981",
   "metadata": {},
   "source": [
    "**🚀 Linear Regression Implementation from Scratch**"
   ]
  },
  {
   "cell_type": "code",
   "execution_count": 68,
   "id": "5bd9c995-6dbe-4c54-872c-c867ce012d5e",
   "metadata": {},
   "outputs": [],
   "source": [
    "class LinearRegression:\n",
    "    def __init__(self):\n",
    "        self.m = None  # Slope\n",
    "        self.b = None  # Intercept\n",
    "\n",
    "    def fit(self, X_train, Y_train):\n",
    "        num = den = 0\n",
    "        X_mean, Y_mean = X_train.mean(), Y_train.mean()\n",
    "        \n",
    "        for i in range(len(X_train)):\n",
    "            num = ((X_train - X_mean) * (Y_train - Y_mean)).sum()\n",
    "            den = ((X_train - X_mean) ** 2).sum()\n",
    "        \n",
    "        self.m = num / den\n",
    "        self.b = Y_mean - self.m * X_mean\n",
    "        print(f\"Slope (m): {self.m:.2f}, Intercept (b): {self.b:.2f}\")\n",
    "\n",
    "    def predict(self, X_test):\n",
    "        return self.m * X_test + self.b"
   ]
  },
  {
   "cell_type": "markdown",
   "id": "bdf24360-93d4-4e9f-b921-abf03a5ad1e2",
   "metadata": {},
   "source": [
    "**Explanation:**\n",
    "**Created a LinearRegression class to hold our model parameters (slope m and intercept b).**\n",
    "**Computes the optimal slope and intercept using the least squares method.**\n",
    "**Manually implements the covariance/variance calculation.**\n",
    "**Applies the linear equation y = mx + b to generate predictions for new data points.**"
   ]
  },
  {
   "cell_type": "markdown",
   "id": "153ee143-52f5-4ffa-a629-b49ff25d724c",
   "metadata": {},
   "source": [
    "**📊 Loading and Preparing Data**"
   ]
  },
  {
   "cell_type": "code",
   "execution_count": 69,
   "id": "4838d69f-4f2b-4c2e-8f15-9bd3d3a72f4d",
   "metadata": {},
   "outputs": [],
   "source": [
    "import pandas as pd\n",
    "import numpy as np"
   ]
  },
  {
   "cell_type": "code",
   "execution_count": 70,
   "id": "227ddb75-9f33-490d-a034-95e01e5a7a8f",
   "metadata": {},
   "outputs": [],
   "source": [
    "df = pd.read_csv(\"placement.csv\")"
   ]
  },
  {
   "cell_type": "code",
   "execution_count": 71,
   "id": "f5e305dd-b77c-4a2a-ae3f-20b44f3e8ec4",
   "metadata": {},
   "outputs": [
    {
     "data": {
      "text/html": [
       "<div>\n",
       "<style scoped>\n",
       "    .dataframe tbody tr th:only-of-type {\n",
       "        vertical-align: middle;\n",
       "    }\n",
       "\n",
       "    .dataframe tbody tr th {\n",
       "        vertical-align: top;\n",
       "    }\n",
       "\n",
       "    .dataframe thead th {\n",
       "        text-align: right;\n",
       "    }\n",
       "</style>\n",
       "<table border=\"1\" class=\"dataframe\">\n",
       "  <thead>\n",
       "    <tr style=\"text-align: right;\">\n",
       "      <th></th>\n",
       "      <th>cgpa</th>\n",
       "      <th>package</th>\n",
       "    </tr>\n",
       "  </thead>\n",
       "  <tbody>\n",
       "    <tr>\n",
       "      <th>0</th>\n",
       "      <td>6.89</td>\n",
       "      <td>3.26</td>\n",
       "    </tr>\n",
       "    <tr>\n",
       "      <th>1</th>\n",
       "      <td>5.12</td>\n",
       "      <td>1.98</td>\n",
       "    </tr>\n",
       "    <tr>\n",
       "      <th>2</th>\n",
       "      <td>7.82</td>\n",
       "      <td>3.25</td>\n",
       "    </tr>\n",
       "    <tr>\n",
       "      <th>3</th>\n",
       "      <td>7.42</td>\n",
       "      <td>3.67</td>\n",
       "    </tr>\n",
       "    <tr>\n",
       "      <th>4</th>\n",
       "      <td>6.94</td>\n",
       "      <td>3.57</td>\n",
       "    </tr>\n",
       "  </tbody>\n",
       "</table>\n",
       "</div>"
      ],
      "text/plain": [
       "   cgpa  package\n",
       "0  6.89     3.26\n",
       "1  5.12     1.98\n",
       "2  7.82     3.25\n",
       "3  7.42     3.67\n",
       "4  6.94     3.57"
      ]
     },
     "execution_count": 71,
     "metadata": {},
     "output_type": "execute_result"
    }
   ],
   "source": [
    "df.head()"
   ]
  },
  {
   "cell_type": "code",
   "execution_count": 72,
   "id": "3cd7d75d-507a-4f5e-92dc-d09668d8dd28",
   "metadata": {},
   "outputs": [
    {
     "data": {
      "text/plain": [
       "(200, 2)"
      ]
     },
     "execution_count": 72,
     "metadata": {},
     "output_type": "execute_result"
    }
   ],
   "source": [
    "df.shape"
   ]
  },
  {
   "cell_type": "code",
   "execution_count": 73,
   "id": "14dd42f9-2aa4-4f4f-ac71-84e1b39a42e1",
   "metadata": {},
   "outputs": [],
   "source": [
    "X = df.iloc[:, 0].values\n",
    "Y = df.iloc[:, 1].values"
   ]
  },
  {
   "cell_type": "code",
   "execution_count": 74,
   "id": "e04fc893-c130-41da-86de-f564d53f1cae",
   "metadata": {},
   "outputs": [],
   "source": [
    "from sklearn.model_selection import train_test_split"
   ]
  },
  {
   "cell_type": "code",
   "execution_count": 75,
   "id": "45b6b6cd-ca58-4e7b-8a52-3a161bfa46c3",
   "metadata": {},
   "outputs": [],
   "source": [
    "X_train, X_test, Y_train, Y_test = train_test_split(X, Y, test_size= 0.2, random_state = 18)"
   ]
  },
  {
   "cell_type": "code",
   "execution_count": 76,
   "id": "c2bdf751-9853-4663-9bc8-b4bacf8550f7",
   "metadata": {},
   "outputs": [],
   "source": [
    "model = LinearRegression()"
   ]
  },
  {
   "cell_type": "code",
   "execution_count": 77,
   "id": "b6ade39b-f683-4cbb-985e-80db8a118175",
   "metadata": {},
   "outputs": [
    {
     "name": "stdout",
     "output_type": "stream",
     "text": [
      "Slope (m): 0.59, Intercept (b): -1.12\n"
     ]
    }
   ],
   "source": [
    "model.fit(X_train, Y_train)"
   ]
  },
  {
   "cell_type": "markdown",
   "id": "cbf039ad-9470-4fb8-b006-86ca57e1320c",
   "metadata": {},
   "source": [
    "**Interpretation:**\n",
    "**For every 1-point CGPA increase, package increases by ~0.59 LPA.**\n",
    "**Negative intercept suggests non-linear effects at lower CGPAs.**"
   ]
  },
  {
   "cell_type": "code",
   "execution_count": 78,
   "id": "863ba933-e257-41c8-ae7f-670da1caf276",
   "metadata": {},
   "outputs": [],
   "source": [
    "predictions = model.predict(X_test)"
   ]
  },
  {
   "cell_type": "markdown",
   "id": "e9527e6a-ea05-4592-a372-584b2718de7c",
   "metadata": {},
   "source": [
    "**📈 Visualization**"
   ]
  },
  {
   "cell_type": "code",
   "execution_count": 79,
   "id": "ace7cd9e-a73a-4060-8f0e-9a2459d61839",
   "metadata": {},
   "outputs": [
    {
     "data": {
      "image/png": "[encoded data removed]",
      "text/plain": [
       "<Figure size 600x400 with 1 Axes>"
      ]
     },
     "metadata": {},
     "output_type": "display_data"
    }
   ],
   "source": [
    "import matplotlib.pyplot as plt\n",
    "plt.figure(figsize=(6, 4))\n",
    "\n",
    "# Calculate min and max values for the perfect fit line\n",
    "min_val = min(np.min(Y_test), np.min(predictions))\n",
    "max_val = max(np.max(Y_test), np.max(predictions))\n",
    "\n",
    "# Plot results\n",
    "plt.scatter(Y_test, predictions, color='red', alpha=0.5, label='Predictions')\n",
    "plt.plot([min_val, max_val], [min_val, max_val], 'b--', label='Ideal Fit')\n",
    "plt.xlabel('Actual Values')\n",
    "plt.ylabel('Predicted Values')\n",
    "plt.title('Linear Regression: Actual vs Predicted')\n",
    "plt.legend()\n",
    "plt.grid(True)\n",
    "plt.show()"
   ]
  },
  {
   "cell_type": "markdown",
   "id": "4053aeee-1dd9-4560-99e1-2db7cd57292d",
   "metadata": {},
   "source": [
    "**Key Insights:**\n",
    "**Red dots show predicted vs actual salaries.**\n",
    "**Blue dashed line represents perfect predictions.**"
   ]
  }
 ],
 "metadata": {
  "kernelspec": {
   "display_name": "Python 3 (ipykernel)",
   "language": "python",
   "name": "python3"
  },
  "language_info": {
   "codemirror_mode": {
    "name": "ipython",
    "version": 3
   },
   "file_extension": ".py",
   "mimetype": "text/x-python",
   "name": "python",
   "nbconvert_exporter": "python",
   "pygments_lexer": "ipython3",
   "version": "3.13.1"
  }
 },
 "nbformat": 4,
 "nbformat_minor": 5
}
